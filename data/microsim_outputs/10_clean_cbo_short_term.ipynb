{
 "cells": [
  {
   "cell_type": "markdown",
   "metadata": {},
   "source": [
    "## # Goal: Clean the CBO Excel file, calculate percent change, and divide by number of employed people in each year\n",
    "\n",
    "#### Last edited: 10/17/21"
   ]
  },
  {
   "cell_type": "code",
   "execution_count": null,
   "metadata": {},
   "outputs": [],
   "source": [
    "import pandas as pd\n",
    "import numpy as np\n",
    "import janitor\n",
    "\n",
    "%load_ext nb_black\n",
    "\n",
    "from IPython.core.display import display, HTML\n",
    "\n",
    "display(HTML(\"<style>.container {width:90% !important;}</style>\"))"
   ]
  },
  {
   "cell_type": "code",
   "execution_count": 205,
   "metadata": {},
   "outputs": [
    {
     "data": {
      "application/javascript": [
       "\n",
       "            setTimeout(function() {\n",
       "                var nbb_cell_id = 205;\n",
       "                var nbb_unformatted_code = \"# import\\ndf = pd.read_csv(\\n    \\\"/Users/samsloate/Desktop/807 MP/data/cbo/short_term_economic_projections.csv\\\",\\n    encoding=\\\"latin-1\\\",\\n    skiprows=6,\\n    sep=\\\",\\\",\\n)\";\n",
       "                var nbb_formatted_code = \"# import\\ndf = pd.read_csv(\\n    \\\"/Users/samsloate/Desktop/807 MP/data/cbo/short_term_economic_projections.csv\\\",\\n    encoding=\\\"latin-1\\\",\\n    skiprows=6,\\n    sep=\\\",\\\",\\n)\";\n",
       "                var nbb_cells = Jupyter.notebook.get_cells();\n",
       "                for (var i = 0; i < nbb_cells.length; ++i) {\n",
       "                    if (nbb_cells[i].input_prompt_number == nbb_cell_id) {\n",
       "                        if (nbb_cells[i].get_text() == nbb_unformatted_code) {\n",
       "                             nbb_cells[i].set_text(nbb_formatted_code);\n",
       "                        }\n",
       "                        break;\n",
       "                    }\n",
       "                }\n",
       "            }, 500);\n",
       "            "
      ],
      "text/plain": [
       "<IPython.core.display.Javascript object>"
      ]
     },
     "metadata": {},
     "output_type": "display_data"
    }
   ],
   "source": [
    "# import\n",
    "df = pd.read_csv(\n",
    "    \"/Users/samsloate/Desktop/807 MP/data/cbo/short_term_economic_projections_raw.csv\",\n",
    "    encoding=\"latin-1\",\n",
    "    skiprows=6,\n",
    "    sep=\",\",\n",
    ")"
   ]
  },
  {
   "cell_type": "code",
   "execution_count": 206,
   "metadata": {},
   "outputs": [
    {
     "data": {
      "application/javascript": [
       "\n",
       "            setTimeout(function() {\n",
       "                var nbb_cell_id = 206;\n",
       "                var nbb_unformatted_code = \"# clean columns\\ndf = df.dropna(how=\\\"all\\\").clean_names()\\ndf = df.rename(\\n    columns={\\n        \\\"unnamed_0\\\": \\\"component\\\",\\n        \\\"unnamed_1\\\": \\\"subcomponent\\\",\\n        \\\"unnamed_2\\\": \\\"subcomponent_1\\\",\\n    }\\n)\\n\\n# forward fill units\\ncols = [\\\"component\\\", \\\"subcomponent\\\", \\\"subcomponent_1\\\"]\\ndf.loc[:, cols] = df.loc[:, cols].ffill()\\ndf = df[~df.units.isna()]\";\n",
       "                var nbb_formatted_code = \"# clean columns\\ndf = df.dropna(how=\\\"all\\\").clean_names()\\ndf = df.rename(\\n    columns={\\n        \\\"unnamed_0\\\": \\\"component\\\",\\n        \\\"unnamed_1\\\": \\\"subcomponent\\\",\\n        \\\"unnamed_2\\\": \\\"subcomponent_1\\\",\\n    }\\n)\\n\\n# forward fill units\\ncols = [\\\"component\\\", \\\"subcomponent\\\", \\\"subcomponent_1\\\"]\\ndf.loc[:, cols] = df.loc[:, cols].ffill()\\ndf = df[~df.units.isna()]\";\n",
       "                var nbb_cells = Jupyter.notebook.get_cells();\n",
       "                for (var i = 0; i < nbb_cells.length; ++i) {\n",
       "                    if (nbb_cells[i].input_prompt_number == nbb_cell_id) {\n",
       "                        if (nbb_cells[i].get_text() == nbb_unformatted_code) {\n",
       "                             nbb_cells[i].set_text(nbb_formatted_code);\n",
       "                        }\n",
       "                        break;\n",
       "                    }\n",
       "                }\n",
       "            }, 500);\n",
       "            "
      ],
      "text/plain": [
       "<IPython.core.display.Javascript object>"
      ]
     },
     "metadata": {},
     "output_type": "display_data"
    }
   ],
   "source": [
    "# clean columns\n",
    "df = df.dropna(how=\"all\").clean_names()\n",
    "df = df.rename(\n",
    "    columns={\n",
    "        \"unnamed_0\": \"component\",\n",
    "        \"unnamed_1\": \"subcomponent\",\n",
    "        \"unnamed_2\": \"subcomponent_1\",\n",
    "    }\n",
    ")\n",
    "\n",
    "# forward fill units\n",
    "cols = [\"component\", \"subcomponent\", \"subcomponent_1\"]\n",
    "df.loc[:, cols] = df.loc[:, cols].ffill()\n",
    "df = df[~df.units.isna()]"
   ]
  },
  {
   "cell_type": "code",
   "execution_count": 207,
   "metadata": {},
   "outputs": [
    {
     "data": {
      "application/javascript": [
       "\n",
       "            setTimeout(function() {\n",
       "                var nbb_cell_id = 207;\n",
       "                var nbb_unformatted_code = \"# create income dataset: just millions/billions as units, and also include LFPR\\ninc = df[\\n    ((df.component == \\\"Income\\\") & (df.units == \\\"Billions of dollars\\\"))\\n    | (\\n        (\\n            (\\n                df.subcomponent\\n                == \\\"Employment, Civilian, 16 Years or Older (Household Survey)\\\"\\n            )\\n            & (df.units == \\\"Millions\\\")\\n        )\\n    )\\n]\\ninc = inc.copy().reset_index(drop=True)\\n\\n# fix forward fill error\\ninc.loc[\\n    inc.subcomponent == \\\"Profits, Corporate, With IVA & CCAdj\\\", \\\"subcomponent_1\\\"\\n] = np.nan\\n\\ninc.loc[\\n    inc.subcomponent == \\\"Profits, Corporate, Domestic, With IVA & CCAdj\\\",\\n    \\\"subcomponent_1\\\",\\n] = np.nan\\n\\n# clean income dataset\\ninc.drop(\\n    \\\"component\\\", axis=1, inplace=True\\n)  # drop redundant column (only says 'income')\\n\\ninc = inc.rename(\\n    columns={\\\"subcomponent\\\": \\\"comp\\\", \\\"subcomponent_1\\\": \\\"subcomp\\\"}\\n)  # rename\\ninc = inc[\\n    inc.columns.drop(list(inc.filter(regex=\\\"unnamed\\\")))\\n]  # remove \\\"unnamed\\\" columns at end\\n\\n\\ninc.comp.replace(\\n    \\\"Employment, Civilian, 16 Years or Older (Household Survey)\\\",\\n    \\\"employment\\\",\\n    inplace=True,\\n)  # rename \\\"employment\\\"\\n\\nval_vars = [str(i) for i in range(2017, 2032)]\\n\\ninc = pd.melt(\\n    inc,\\n    id_vars=[\\\"comp\\\", \\\"subcomp\\\", \\\"units\\\"],\\n    value_vars=val_vars,\\n    var_name=\\\"year\\\",\\n    value_name=\\\"dollars\\\",\\n)  # make long, not wide\";\n",
       "                var nbb_formatted_code = \"# create income dataset: just millions/billions as units, and also include LFPR\\ninc = df[\\n    ((df.component == \\\"Income\\\") & (df.units == \\\"Billions of dollars\\\"))\\n    | (\\n        (\\n            (\\n                df.subcomponent\\n                == \\\"Employment, Civilian, 16 Years or Older (Household Survey)\\\"\\n            )\\n            & (df.units == \\\"Millions\\\")\\n        )\\n    )\\n]\\ninc = inc.copy().reset_index(drop=True)\\n\\n# fix forward fill error\\ninc.loc[\\n    inc.subcomponent == \\\"Profits, Corporate, With IVA & CCAdj\\\", \\\"subcomponent_1\\\"\\n] = np.nan\\n\\ninc.loc[\\n    inc.subcomponent == \\\"Profits, Corporate, Domestic, With IVA & CCAdj\\\",\\n    \\\"subcomponent_1\\\",\\n] = np.nan\\n\\n# clean income dataset\\ninc.drop(\\n    \\\"component\\\", axis=1, inplace=True\\n)  # drop redundant column (only says 'income')\\n\\ninc = inc.rename(\\n    columns={\\\"subcomponent\\\": \\\"comp\\\", \\\"subcomponent_1\\\": \\\"subcomp\\\"}\\n)  # rename\\ninc = inc[\\n    inc.columns.drop(list(inc.filter(regex=\\\"unnamed\\\")))\\n]  # remove \\\"unnamed\\\" columns at end\\n\\n\\ninc.comp.replace(\\n    \\\"Employment, Civilian, 16 Years or Older (Household Survey)\\\",\\n    \\\"employment\\\",\\n    inplace=True,\\n)  # rename \\\"employment\\\"\\n\\nval_vars = [str(i) for i in range(2017, 2032)]\\n\\ninc = pd.melt(\\n    inc,\\n    id_vars=[\\\"comp\\\", \\\"subcomp\\\", \\\"units\\\"],\\n    value_vars=val_vars,\\n    var_name=\\\"year\\\",\\n    value_name=\\\"dollars\\\",\\n)  # make long, not wide\";\n",
       "                var nbb_cells = Jupyter.notebook.get_cells();\n",
       "                for (var i = 0; i < nbb_cells.length; ++i) {\n",
       "                    if (nbb_cells[i].input_prompt_number == nbb_cell_id) {\n",
       "                        if (nbb_cells[i].get_text() == nbb_unformatted_code) {\n",
       "                             nbb_cells[i].set_text(nbb_formatted_code);\n",
       "                        }\n",
       "                        break;\n",
       "                    }\n",
       "                }\n",
       "            }, 500);\n",
       "            "
      ],
      "text/plain": [
       "<IPython.core.display.Javascript object>"
      ]
     },
     "metadata": {},
     "output_type": "display_data"
    }
   ],
   "source": [
    "# create income dataset: just millions/billions as units, and also include LFPR\n",
    "inc = df[\n",
    "    ((df.component == \"Income\") & (df.units == \"Billions of dollars\"))\n",
    "    | (\n",
    "        (\n",
    "            (\n",
    "                df.subcomponent\n",
    "                == \"Employment, Civilian, 16 Years or Older (Household Survey)\"\n",
    "            )\n",
    "            & (df.units == \"Millions\")\n",
    "        )\n",
    "    )\n",
    "]\n",
    "inc = inc.copy().reset_index(drop=True)\n",
    "\n",
    "# fix forward fill error\n",
    "inc.loc[\n",
    "    inc.subcomponent == \"Profits, Corporate, With IVA & CCAdj\", \"subcomponent_1\"\n",
    "] = np.nan\n",
    "\n",
    "inc.loc[\n",
    "    inc.subcomponent == \"Profits, Corporate, Domestic, With IVA & CCAdj\",\n",
    "    \"subcomponent_1\",\n",
    "] = np.nan\n",
    "\n",
    "# clean income dataset\n",
    "inc.drop(\n",
    "    \"component\", axis=1, inplace=True\n",
    ")  # drop redundant column (only says 'income')\n",
    "\n",
    "inc = inc.rename(\n",
    "    columns={\"subcomponent\": \"comp\", \"subcomponent_1\": \"subcomp\"}\n",
    ")  # rename\n",
    "inc = inc[\n",
    "    inc.columns.drop(list(inc.filter(regex=\"unnamed\")))\n",
    "]  # remove \"unnamed\" columns at end\n",
    "\n",
    "\n",
    "inc.comp.replace(\n",
    "    \"Employment, Civilian, 16 Years or Older (Household Survey)\",\n",
    "    \"employment\",\n",
    "    inplace=True,\n",
    ")  # rename \"employment\"\n",
    "\n",
    "val_vars = [str(i) for i in range(2017, 2032)]\n",
    "\n",
    "inc = pd.melt(\n",
    "    inc,\n",
    "    id_vars=[\"comp\", \"subcomp\", \"units\"],\n",
    "    value_vars=val_vars,\n",
    "    var_name=\"year\",\n",
    "    value_name=\"dollars\",\n",
    ")  # make long, not wide"
   ]
  },
  {
   "cell_type": "code",
   "execution_count": 208,
   "metadata": {},
   "outputs": [
    {
     "data": {
      "application/javascript": [
       "\n",
       "            setTimeout(function() {\n",
       "                var nbb_cell_id = 208;\n",
       "                var nbb_unformatted_code = \"# create new employment column\\ninc[\\\"employment\\\"] = np.nan\\ninc.loc[inc.comp == \\\"employment\\\", \\\"employment\\\"] = inc.dollars\\ninc.employment = inc.employment.ffill()\\n\\n# employment in millions\\ninc.employment = inc.employment * 1000000\\n\\n# drop employment rows\\ninc = inc[inc.comp != \\\"employment\\\"]\\n\\n# dollars in billions\\ninc.dollars = inc.dollars * 1000000000\\n\\n# delete units column\\ninc.drop(\\\"units\\\", axis=1, inplace=True)\\n\\n# fill in \\\"total\\\" for sub component\\ninc.loc[inc.subcomp.isna(), \\\"subcomp\\\"] = inc.comp\";\n",
       "                var nbb_formatted_code = \"# create new employment column\\ninc[\\\"employment\\\"] = np.nan\\ninc.loc[inc.comp == \\\"employment\\\", \\\"employment\\\"] = inc.dollars\\ninc.employment = inc.employment.ffill()\\n\\n# employment in millions\\ninc.employment = inc.employment * 1000000\\n\\n# drop employment rows\\ninc = inc[inc.comp != \\\"employment\\\"]\\n\\n# dollars in billions\\ninc.dollars = inc.dollars * 1000000000\\n\\n# delete units column\\ninc.drop(\\\"units\\\", axis=1, inplace=True)\\n\\n# fill in \\\"total\\\" for sub component\\ninc.loc[inc.subcomp.isna(), \\\"subcomp\\\"] = inc.comp\";\n",
       "                var nbb_cells = Jupyter.notebook.get_cells();\n",
       "                for (var i = 0; i < nbb_cells.length; ++i) {\n",
       "                    if (nbb_cells[i].input_prompt_number == nbb_cell_id) {\n",
       "                        if (nbb_cells[i].get_text() == nbb_unformatted_code) {\n",
       "                             nbb_cells[i].set_text(nbb_formatted_code);\n",
       "                        }\n",
       "                        break;\n",
       "                    }\n",
       "                }\n",
       "            }, 500);\n",
       "            "
      ],
      "text/plain": [
       "<IPython.core.display.Javascript object>"
      ]
     },
     "metadata": {},
     "output_type": "display_data"
    }
   ],
   "source": [
    "# create new employment column\n",
    "inc[\"employment\"] = np.nan\n",
    "inc.loc[inc.comp == \"employment\", \"employment\"] = inc.dollars\n",
    "inc.employment = inc.employment.ffill()\n",
    "\n",
    "# employment in millions\n",
    "inc.employment = inc.employment * 1000000\n",
    "\n",
    "# drop employment rows\n",
    "inc = inc[inc.comp != \"employment\"]\n",
    "\n",
    "# dollars in billions\n",
    "inc.dollars = inc.dollars * 1000000000\n",
    "\n",
    "# delete units column\n",
    "inc.drop(\"units\", axis=1, inplace=True)\n",
    "\n",
    "# fill in \"total\" for sub component\n",
    "inc.loc[inc.subcomp.isna(), \"subcomp\"] = inc.comp"
   ]
  },
  {
   "cell_type": "code",
   "execution_count": 209,
   "metadata": {},
   "outputs": [
    {
     "data": {
      "application/javascript": [
       "\n",
       "            setTimeout(function() {\n",
       "                var nbb_cell_id = 209;\n",
       "                var nbb_unformatted_code = \"# calculations\\ninc[\\\"dollars_per_wkr\\\"] = (\\n    inc.dollars / inc.employment\\n)  # dollars per worker, to account for pop. growth\";\n",
       "                var nbb_formatted_code = \"# calculations\\ninc[\\\"dollars_per_wkr\\\"] = (\\n    inc.dollars / inc.employment\\n)  # dollars per worker, to account for pop. growth\";\n",
       "                var nbb_cells = Jupyter.notebook.get_cells();\n",
       "                for (var i = 0; i < nbb_cells.length; ++i) {\n",
       "                    if (nbb_cells[i].input_prompt_number == nbb_cell_id) {\n",
       "                        if (nbb_cells[i].get_text() == nbb_unformatted_code) {\n",
       "                             nbb_cells[i].set_text(nbb_formatted_code);\n",
       "                        }\n",
       "                        break;\n",
       "                    }\n",
       "                }\n",
       "            }, 500);\n",
       "            "
      ],
      "text/plain": [
       "<IPython.core.display.Javascript object>"
      ]
     },
     "metadata": {},
     "output_type": "display_data"
    }
   ],
   "source": [
    "# calculations\n",
    "inc[\"dollars_per_wkr\"] = (\n",
    "    inc.dollars / inc.employment\n",
    ")  # dollars per worker, to account for pop. growth"
   ]
  },
  {
   "cell_type": "code",
   "execution_count": 210,
   "metadata": {},
   "outputs": [
    {
     "data": {
      "text/html": [
       "<div>\n",
       "<style scoped>\n",
       "    .dataframe tbody tr th:only-of-type {\n",
       "        vertical-align: middle;\n",
       "    }\n",
       "\n",
       "    .dataframe tbody tr th {\n",
       "        vertical-align: top;\n",
       "    }\n",
       "\n",
       "    .dataframe thead th {\n",
       "        text-align: right;\n",
       "    }\n",
       "</style>\n",
       "<table border=\"1\" class=\"dataframe\">\n",
       "  <thead>\n",
       "    <tr style=\"text-align: right;\">\n",
       "      <th></th>\n",
       "      <th>comp</th>\n",
       "      <th>subcomp</th>\n",
       "      <th>year</th>\n",
       "      <th>dollars</th>\n",
       "      <th>employment</th>\n",
       "      <th>dollars_per_wkr</th>\n",
       "      <th>pct_change</th>\n",
       "    </tr>\n",
       "  </thead>\n",
       "  <tbody>\n",
       "    <tr>\n",
       "      <th>2</th>\n",
       "      <td>Compensation of Employees, Paid</td>\n",
       "      <td>Compensation of Employees, Paid</td>\n",
       "      <td>2017</td>\n",
       "      <td>1.042260e+13</td>\n",
       "      <td>153335000.0</td>\n",
       "      <td>67972.739427</td>\n",
       "      <td>NaN</td>\n",
       "    </tr>\n",
       "    <tr>\n",
       "      <th>14</th>\n",
       "      <td>Compensation of Employees, Paid</td>\n",
       "      <td>Compensation of Employees, Paid</td>\n",
       "      <td>2018</td>\n",
       "      <td>1.095010e+13</td>\n",
       "      <td>155758000.0</td>\n",
       "      <td>70302.006960</td>\n",
       "      <td>0.034268</td>\n",
       "    </tr>\n",
       "    <tr>\n",
       "      <th>26</th>\n",
       "      <td>Compensation of Employees, Paid</td>\n",
       "      <td>Compensation of Employees, Paid</td>\n",
       "      <td>2019</td>\n",
       "      <td>1.143250e+13</td>\n",
       "      <td>157536000.0</td>\n",
       "      <td>72570.713996</td>\n",
       "      <td>0.032271</td>\n",
       "    </tr>\n",
       "    <tr>\n",
       "      <th>38</th>\n",
       "      <td>Compensation of Employees, Paid</td>\n",
       "      <td>Compensation of Employees, Paid</td>\n",
       "      <td>2020</td>\n",
       "      <td>1.144860e+13</td>\n",
       "      <td>147793000.0</td>\n",
       "      <td>77463.749975</td>\n",
       "      <td>0.067424</td>\n",
       "    </tr>\n",
       "    <tr>\n",
       "      <th>50</th>\n",
       "      <td>Compensation of Employees, Paid</td>\n",
       "      <td>Compensation of Employees, Paid</td>\n",
       "      <td>2021</td>\n",
       "      <td>1.231150e+13</td>\n",
       "      <td>153034000.0</td>\n",
       "      <td>80449.442608</td>\n",
       "      <td>0.038543</td>\n",
       "    </tr>\n",
       "    <tr>\n",
       "      <th>...</th>\n",
       "      <td>...</td>\n",
       "      <td>...</td>\n",
       "      <td>...</td>\n",
       "      <td>...</td>\n",
       "      <td>...</td>\n",
       "      <td>...</td>\n",
       "      <td>...</td>\n",
       "    </tr>\n",
       "    <tr>\n",
       "      <th>123</th>\n",
       "      <td>Wages and Salaries</td>\n",
       "      <td>Wages and Salaries</td>\n",
       "      <td>2027</td>\n",
       "      <td>1.284320e+13</td>\n",
       "      <td>160924000.0</td>\n",
       "      <td>79809.102433</td>\n",
       "      <td>0.036048</td>\n",
       "    </tr>\n",
       "    <tr>\n",
       "      <th>135</th>\n",
       "      <td>Wages and Salaries</td>\n",
       "      <td>Wages and Salaries</td>\n",
       "      <td>2028</td>\n",
       "      <td>1.333420e+13</td>\n",
       "      <td>161329000.0</td>\n",
       "      <td>82652.219998</td>\n",
       "      <td>0.035624</td>\n",
       "    </tr>\n",
       "    <tr>\n",
       "      <th>147</th>\n",
       "      <td>Wages and Salaries</td>\n",
       "      <td>Wages and Salaries</td>\n",
       "      <td>2029</td>\n",
       "      <td>1.382350e+13</td>\n",
       "      <td>161612000.0</td>\n",
       "      <td>85535.108779</td>\n",
       "      <td>0.034880</td>\n",
       "    </tr>\n",
       "    <tr>\n",
       "      <th>159</th>\n",
       "      <td>Wages and Salaries</td>\n",
       "      <td>Wages and Salaries</td>\n",
       "      <td>2030</td>\n",
       "      <td>1.430890e+13</td>\n",
       "      <td>161873000.0</td>\n",
       "      <td>88395.841184</td>\n",
       "      <td>0.033445</td>\n",
       "    </tr>\n",
       "    <tr>\n",
       "      <th>171</th>\n",
       "      <td>Wages and Salaries</td>\n",
       "      <td>Wages and Salaries</td>\n",
       "      <td>2031</td>\n",
       "      <td>1.481410e+13</td>\n",
       "      <td>162352000.0</td>\n",
       "      <td>91246.797083</td>\n",
       "      <td>0.032252</td>\n",
       "    </tr>\n",
       "  </tbody>\n",
       "</table>\n",
       "<p>165 rows × 7 columns</p>\n",
       "</div>"
      ],
      "text/plain": [
       "                                comp                          subcomp  year  \\\n",
       "2    Compensation of Employees, Paid  Compensation of Employees, Paid  2017   \n",
       "14   Compensation of Employees, Paid  Compensation of Employees, Paid  2018   \n",
       "26   Compensation of Employees, Paid  Compensation of Employees, Paid  2019   \n",
       "38   Compensation of Employees, Paid  Compensation of Employees, Paid  2020   \n",
       "50   Compensation of Employees, Paid  Compensation of Employees, Paid  2021   \n",
       "..                               ...                              ...   ...   \n",
       "123               Wages and Salaries               Wages and Salaries  2027   \n",
       "135               Wages and Salaries               Wages and Salaries  2028   \n",
       "147               Wages and Salaries               Wages and Salaries  2029   \n",
       "159               Wages and Salaries               Wages and Salaries  2030   \n",
       "171               Wages and Salaries               Wages and Salaries  2031   \n",
       "\n",
       "          dollars   employment  dollars_per_wkr  pct_change  \n",
       "2    1.042260e+13  153335000.0     67972.739427         NaN  \n",
       "14   1.095010e+13  155758000.0     70302.006960    0.034268  \n",
       "26   1.143250e+13  157536000.0     72570.713996    0.032271  \n",
       "38   1.144860e+13  147793000.0     77463.749975    0.067424  \n",
       "50   1.231150e+13  153034000.0     80449.442608    0.038543  \n",
       "..            ...          ...              ...         ...  \n",
       "123  1.284320e+13  160924000.0     79809.102433    0.036048  \n",
       "135  1.333420e+13  161329000.0     82652.219998    0.035624  \n",
       "147  1.382350e+13  161612000.0     85535.108779    0.034880  \n",
       "159  1.430890e+13  161873000.0     88395.841184    0.033445  \n",
       "171  1.481410e+13  162352000.0     91246.797083    0.032252  \n",
       "\n",
       "[165 rows x 7 columns]"
      ]
     },
     "execution_count": 210,
     "metadata": {},
     "output_type": "execute_result"
    },
    {
     "data": {
      "application/javascript": [
       "\n",
       "            setTimeout(function() {\n",
       "                var nbb_cell_id = 210;\n",
       "                var nbb_unformatted_code = \"inc.sort_values([\\\"comp\\\", \\\"subcomp\\\"], inplace=True, ascending=[True, False])\\ninc[\\\"pct_change\\\"] = inc.dollars_per_wkr.pct_change()\\ninc\";\n",
       "                var nbb_formatted_code = \"inc.sort_values([\\\"comp\\\", \\\"subcomp\\\"], inplace=True, ascending=[True, False])\\ninc[\\\"pct_change\\\"] = inc.dollars_per_wkr.pct_change()\\ninc\";\n",
       "                var nbb_cells = Jupyter.notebook.get_cells();\n",
       "                for (var i = 0; i < nbb_cells.length; ++i) {\n",
       "                    if (nbb_cells[i].input_prompt_number == nbb_cell_id) {\n",
       "                        if (nbb_cells[i].get_text() == nbb_unformatted_code) {\n",
       "                             nbb_cells[i].set_text(nbb_formatted_code);\n",
       "                        }\n",
       "                        break;\n",
       "                    }\n",
       "                }\n",
       "            }, 500);\n",
       "            "
      ],
      "text/plain": [
       "<IPython.core.display.Javascript object>"
      ]
     },
     "metadata": {},
     "output_type": "display_data"
    }
   ],
   "source": [
    "inc.sort_values([\"comp\", \"subcomp\"], inplace=True, ascending=[True, False])\n",
    "inc[\"pct_change\"] = inc.dollars_per_wkr.pct_change()\n",
    "inc"
   ]
  },
  {
   "cell_type": "code",
   "execution_count": 211,
   "metadata": {},
   "outputs": [
    {
     "data": {
      "application/javascript": [
       "\n",
       "            setTimeout(function() {\n",
       "                var nbb_cell_id = 211;\n",
       "                var nbb_unformatted_code = \"# subset to just the data we need\\ninc.replace(\\\"Wages and Salaries\\\", \\\"wages and salaries\\\", inplace=True)\\ninc.replace(\\\"Nonwage Income\\\", \\\"nonwage inc\\\", inplace=True)\\ninc.replace(\\\"Income, Personal\\\", \\\"total personal inc\\\", inplace=True)\\n\\n# round numbers\\ninc[\\\"pct_change\\\"] = inc[\\\"pct_change\\\"].round(4)\\ninc[\\\"dollars_per_wkr\\\"] = inc[\\\"dollars_per_wkr\\\"].round(2)\\ninc[\\\"employment\\\"] = inc[\\\"employment\\\"].round(0)\\n\\ninc_all = inc\\n\\ninc_subset = inc[\\n    (inc.comp == \\\"wages and salaries\\\")\\n    | (inc.comp == \\\"nonwage inc\\\")\\n    | (inc.comp == \\\"total personal inc\\\")\\n]\";\n",
       "                var nbb_formatted_code = \"# subset to just the data we need\\ninc.replace(\\\"Wages and Salaries\\\", \\\"wages and salaries\\\", inplace=True)\\ninc.replace(\\\"Nonwage Income\\\", \\\"nonwage inc\\\", inplace=True)\\ninc.replace(\\\"Income, Personal\\\", \\\"total personal inc\\\", inplace=True)\\n\\n# round numbers\\ninc[\\\"pct_change\\\"] = inc[\\\"pct_change\\\"].round(4)\\ninc[\\\"dollars_per_wkr\\\"] = inc[\\\"dollars_per_wkr\\\"].round(2)\\ninc[\\\"employment\\\"] = inc[\\\"employment\\\"].round(0)\\n\\ninc_all = inc\\n\\ninc_subset = inc[\\n    (inc.comp == \\\"wages and salaries\\\")\\n    | (inc.comp == \\\"nonwage inc\\\")\\n    | (inc.comp == \\\"total personal inc\\\")\\n]\";\n",
       "                var nbb_cells = Jupyter.notebook.get_cells();\n",
       "                for (var i = 0; i < nbb_cells.length; ++i) {\n",
       "                    if (nbb_cells[i].input_prompt_number == nbb_cell_id) {\n",
       "                        if (nbb_cells[i].get_text() == nbb_unformatted_code) {\n",
       "                             nbb_cells[i].set_text(nbb_formatted_code);\n",
       "                        }\n",
       "                        break;\n",
       "                    }\n",
       "                }\n",
       "            }, 500);\n",
       "            "
      ],
      "text/plain": [
       "<IPython.core.display.Javascript object>"
      ]
     },
     "metadata": {},
     "output_type": "display_data"
    }
   ],
   "source": [
    "# subset to just the data we need\n",
    "inc.replace(\"Wages and Salaries\", \"wages and salaries\", inplace=True)\n",
    "inc.replace(\"Nonwage Income\", \"nonwage inc\", inplace=True)\n",
    "inc.replace(\"Income, Personal\", \"total personal inc\", inplace=True)\n",
    "\n",
    "# round numbers\n",
    "inc[\"pct_change\"] = inc[\"pct_change\"].round(4)\n",
    "inc[\"dollars_per_wkr\"] = inc[\"dollars_per_wkr\"].round(2)\n",
    "inc[\"employment\"] = inc[\"employment\"].round(0)\n",
    "\n",
    "inc_all = inc\n",
    "\n",
    "inc_subset = inc[\n",
    "    (inc.comp == \"wages and salaries\")\n",
    "    | (inc.comp == \"nonwage inc\")\n",
    "    | (inc.comp == \"total personal inc\")\n",
    "]"
   ]
  },
  {
   "cell_type": "code",
   "execution_count": 213,
   "metadata": {},
   "outputs": [
    {
     "data": {
      "application/javascript": [
       "\n",
       "            setTimeout(function() {\n",
       "                var nbb_cell_id = 213;\n",
       "                var nbb_unformatted_code = \"# export\\n\\ninc_all.to_csv(\\\"/Users/samsloate/Desktop/807 MP/data/cbo/short_term_economic_projections_clean_all.csv\\\")\\ninc_subset.to_csv(\\\"/Users/samsloate/Desktop/807 MP/data/cbo/short_term_economic_projections_clean_subset.csv\\\")\";\n",
       "                var nbb_formatted_code = \"# export\\n\\ninc_all.to_csv(\\n    \\\"/Users/samsloate/Desktop/807 MP/data/cbo/short_term_economic_projections_clean_all.csv\\\"\\n)\\ninc_subset.to_csv(\\n    \\\"/Users/samsloate/Desktop/807 MP/data/cbo/short_term_economic_projections_clean_subset.csv\\\"\\n)\";\n",
       "                var nbb_cells = Jupyter.notebook.get_cells();\n",
       "                for (var i = 0; i < nbb_cells.length; ++i) {\n",
       "                    if (nbb_cells[i].input_prompt_number == nbb_cell_id) {\n",
       "                        if (nbb_cells[i].get_text() == nbb_unformatted_code) {\n",
       "                             nbb_cells[i].set_text(nbb_formatted_code);\n",
       "                        }\n",
       "                        break;\n",
       "                    }\n",
       "                }\n",
       "            }, 500);\n",
       "            "
      ],
      "text/plain": [
       "<IPython.core.display.Javascript object>"
      ]
     },
     "metadata": {},
     "output_type": "display_data"
    }
   ],
   "source": [
    "# export\n",
    "\n",
    "inc_all.to_csv(\n",
    "    \"/Users/samsloate/Desktop/807 MP/data/cbo/short_term_economic_projections_clean_all.csv\"\n",
    ")\n",
    "inc_subset.to_csv(\n",
    "    \"/Users/samsloate/Desktop/807 MP/data/cbo/short_term_economic_projections_clean_subset.csv\"\n",
    ")"
   ]
  },
  {
   "cell_type": "code",
   "execution_count": null,
   "metadata": {},
   "outputs": [],
   "source": []
  },
  {
   "cell_type": "code",
   "execution_count": null,
   "metadata": {},
   "outputs": [],
   "source": []
  },
  {
   "cell_type": "code",
   "execution_count": null,
   "metadata": {},
   "outputs": [],
   "source": []
  }
 ],
 "metadata": {
  "kernelspec": {
   "display_name": "Python 3",
   "language": "python",
   "name": "python3"
  },
  "language_info": {
   "codemirror_mode": {
    "name": "ipython",
    "version": 3
   },
   "file_extension": ".py",
   "mimetype": "text/x-python",
   "name": "python",
   "nbconvert_exporter": "python",
   "pygments_lexer": "ipython3",
   "version": "3.7.6"
  }
 },
 "nbformat": 4,
 "nbformat_minor": 4
}
